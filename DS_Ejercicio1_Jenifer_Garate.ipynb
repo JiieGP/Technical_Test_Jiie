{
 "cells": [
  {
   "cell_type": "markdown",
   "id": "7d63686f",
   "metadata": {},
   "source": [
    "# Ejercicio 1"
   ]
  },
  {
   "cell_type": "markdown",
   "id": "17d412c4",
   "metadata": {},
   "source": [
    "En conjunto con el desafío te compartimos un archivo llamado ofertas_relampago.csv el cual posee información \n",
    "de los resultados de ofertas del tipo relampago para un periodo de tiempo y un país determinado.\n",
    "Es decir, son ofertas que tienen una duración definida de algunas horas y un porcentaje de\n",
    "unidades (stock) comprometidas.El objetivo de este desafío es hacer un EDA sobre estos datos \n",
    "buscando insights sobre este tipo de ofertas."
   ]
  },
  {
   "cell_type": "code",
   "execution_count": 10,
   "id": "4a34ab0b",
   "metadata": {},
   "outputs": [],
   "source": [
    "import pandas as pd\n",
    "import os\n",
    "import numpy as np\n",
    "import matplotlib.pyplot as plt\n",
    "import seaborn as sns"
   ]
  },
  {
   "cell_type": "code",
   "execution_count": 26,
   "id": "a1a4a1cd",
   "metadata": {},
   "outputs": [],
   "source": [
    "df = pd.read_csv(\"/Users/jgarate/Downloads/ofertas_relampago.csv\")"
   ]
  },
  {
   "cell_type": "code",
   "execution_count": 27,
   "id": "f2be00ff",
   "metadata": {},
   "outputs": [
    {
     "name": "stdout",
     "output_type": "stream",
     "text": [
      "<class 'pandas.core.frame.DataFrame'>\n",
      "RangeIndex: 48746 entries, 0 to 48745\n",
      "Data columns (total 13 columns):\n",
      " #   Column                     Non-Null Count  Dtype  \n",
      "---  ------                     --------------  -----  \n",
      " 0   OFFER_START_DATE           48746 non-null  object \n",
      " 1   OFFER_START_DTTM           48746 non-null  object \n",
      " 2   OFFER_FINISH_DTTM          48746 non-null  object \n",
      " 3   OFFER_TYPE                 48746 non-null  object \n",
      " 4   INVOLVED_STOCK             48746 non-null  int64  \n",
      " 5   REMAINING_STOCK_AFTER_END  48746 non-null  int64  \n",
      " 6   SOLD_AMOUNT                24579 non-null  float64\n",
      " 7   SOLD_QUANTITY              24579 non-null  float64\n",
      " 8   ORIGIN                     11316 non-null  object \n",
      " 9   SHIPPING_PAYMENT_TYPE      48746 non-null  object \n",
      " 10  DOM_DOMAIN_AGG1            48746 non-null  object \n",
      " 11  VERTICAL                   48746 non-null  object \n",
      " 12  DOMAIN_ID                  48746 non-null  object \n",
      "dtypes: float64(2), int64(2), object(9)\n",
      "memory usage: 4.8+ MB\n"
     ]
    }
   ],
   "source": [
    "df.head()\n",
    "df.describe()\n",
    "df.info()"
   ]
  },
  {
   "cell_type": "code",
   "execution_count": 28,
   "id": "666cfcb8",
   "metadata": {},
   "outputs": [
    {
     "data": {
      "text/plain": [
       "OFFER_START_DATE                 0\n",
       "OFFER_START_DTTM                 0\n",
       "OFFER_FINISH_DTTM                0\n",
       "OFFER_TYPE                       0\n",
       "INVOLVED_STOCK                   0\n",
       "REMAINING_STOCK_AFTER_END        0\n",
       "SOLD_AMOUNT                  24167\n",
       "SOLD_QUANTITY                24167\n",
       "ORIGIN                       37430\n",
       "SHIPPING_PAYMENT_TYPE            0\n",
       "DOM_DOMAIN_AGG1                  0\n",
       "VERTICAL                         0\n",
       "DOMAIN_ID                        0\n",
       "dtype: int64"
      ]
     },
     "execution_count": 28,
     "metadata": {},
     "output_type": "execute_result"
    }
   ],
   "source": [
    "df.isnull().sum()"
   ]
  },
  {
   "cell_type": "code",
   "execution_count": 34,
   "id": "4f307ca4",
   "metadata": {},
   "outputs": [
    {
     "name": "stderr",
     "output_type": "stream",
     "text": [
      "/var/folders/hk/qlqtlt5559d5t5l_hbh09qgh2_yfz_/T/ipykernel_4500/1134722465.py:1: FutureWarning: The default value of numeric_only in DataFrame.corr is deprecated. In a future version, it will default to False. Select only valid columns or specify the value of numeric_only to silence this warning.\n",
      "  df.corr()\n"
     ]
    },
    {
     "data": {
      "text/html": [
       "<div>\n",
       "<style scoped>\n",
       "    .dataframe tbody tr th:only-of-type {\n",
       "        vertical-align: middle;\n",
       "    }\n",
       "\n",
       "    .dataframe tbody tr th {\n",
       "        vertical-align: top;\n",
       "    }\n",
       "\n",
       "    .dataframe thead th {\n",
       "        text-align: right;\n",
       "    }\n",
       "</style>\n",
       "<table border=\"1\" class=\"dataframe\">\n",
       "  <thead>\n",
       "    <tr style=\"text-align: right;\">\n",
       "      <th></th>\n",
       "      <th>INVOLVED_STOCK</th>\n",
       "      <th>REMAINING_STOCK_AFTER_END</th>\n",
       "      <th>SOLD_AMOUNT</th>\n",
       "      <th>SOLD_QUANTITY</th>\n",
       "    </tr>\n",
       "  </thead>\n",
       "  <tbody>\n",
       "    <tr>\n",
       "      <th>INVOLVED_STOCK</th>\n",
       "      <td>1.000000</td>\n",
       "      <td>0.994240</td>\n",
       "      <td>0.405859</td>\n",
       "      <td>0.557684</td>\n",
       "    </tr>\n",
       "    <tr>\n",
       "      <th>REMAINING_STOCK_AFTER_END</th>\n",
       "      <td>0.994240</td>\n",
       "      <td>1.000000</td>\n",
       "      <td>0.354320</td>\n",
       "      <td>0.484031</td>\n",
       "    </tr>\n",
       "    <tr>\n",
       "      <th>SOLD_AMOUNT</th>\n",
       "      <td>0.405859</td>\n",
       "      <td>0.354320</td>\n",
       "      <td>1.000000</td>\n",
       "      <td>0.708884</td>\n",
       "    </tr>\n",
       "    <tr>\n",
       "      <th>SOLD_QUANTITY</th>\n",
       "      <td>0.557684</td>\n",
       "      <td>0.484031</td>\n",
       "      <td>0.708884</td>\n",
       "      <td>1.000000</td>\n",
       "    </tr>\n",
       "  </tbody>\n",
       "</table>\n",
       "</div>"
      ],
      "text/plain": [
       "                           INVOLVED_STOCK  REMAINING_STOCK_AFTER_END  \\\n",
       "INVOLVED_STOCK                   1.000000                   0.994240   \n",
       "REMAINING_STOCK_AFTER_END        0.994240                   1.000000   \n",
       "SOLD_AMOUNT                      0.405859                   0.354320   \n",
       "SOLD_QUANTITY                    0.557684                   0.484031   \n",
       "\n",
       "                           SOLD_AMOUNT  SOLD_QUANTITY  \n",
       "INVOLVED_STOCK                0.405859       0.557684  \n",
       "REMAINING_STOCK_AFTER_END     0.354320       0.484031  \n",
       "SOLD_AMOUNT                   1.000000       0.708884  \n",
       "SOLD_QUANTITY                 0.708884       1.000000  "
      ]
     },
     "execution_count": 34,
     "metadata": {},
     "output_type": "execute_result"
    }
   ],
   "source": [
    "df.corr()"
   ]
  },
  {
   "cell_type": "code",
   "execution_count": 35,
   "id": "1f5bbb9f",
   "metadata": {},
   "outputs": [
    {
     "name": "stdout",
     "output_type": "stream",
     "text": [
      "OFFER_START_DATE: 61 valores únicos\n",
      "OFFER_START_DTTM: 783 valores únicos\n",
      "OFFER_FINISH_DTTM: 7578 valores únicos\n",
      "OFFER_TYPE: 1 valores únicos\n",
      "INVOLVED_STOCK: 505 valores únicos\n",
      "REMAINING_STOCK_AFTER_END: 801 valores únicos\n",
      "SOLD_AMOUNT: 7603 valores únicos\n",
      "SOLD_QUANTITY: 373 valores únicos\n",
      "ORIGIN: 1 valores únicos\n",
      "SHIPPING_PAYMENT_TYPE: 2 valores únicos\n",
      "DOM_DOMAIN_AGG1: 36 valores únicos\n",
      "VERTICAL: 9 valores únicos\n",
      "DOMAIN_ID: 1266 valores únicos\n"
     ]
    }
   ],
   "source": [
    "for col in df.columns:\n",
    "    print(f\"{col}: {df[col].nunique()} valores únicos\")"
   ]
  },
  {
   "cell_type": "code",
   "execution_count": 36,
   "id": "ab9e7d8d",
   "metadata": {},
   "outputs": [
    {
     "name": "stdout",
     "output_type": "stream",
     "text": [
      "Cantidad promedio vendida: 51.208897839619176\n"
     ]
    }
   ],
   "source": [
    "avg_sold_amount = df['SOLD_AMOUNT'].mean()\n",
    "print(f\"Cantidad promedio vendida: {avg_sold_amount}\")"
   ]
  },
  {
   "cell_type": "code",
   "execution_count": 37,
   "id": "935a1c01",
   "metadata": {},
   "outputs": [
    {
     "name": "stdout",
     "output_type": "stream",
     "text": [
      "      OFFER_START_DATE  tasa_de_ventas\n",
      "0           2021-06-22      118.000000\n",
      "1           2021-06-22             NaN\n",
      "2           2021-06-22       71.533333\n",
      "3           2021-06-22       46.866667\n",
      "4           2021-06-22      264.333333\n",
      "...                ...             ...\n",
      "48741       2021-06-19      108.533333\n",
      "48742       2021-06-19             NaN\n",
      "48743       2021-06-19      332.400000\n",
      "48744       2021-06-19      775.800000\n",
      "48745       2021-06-19             NaN\n",
      "\n",
      "[48746 rows x 2 columns]\n"
     ]
    }
   ],
   "source": [
    "df['tasa_de_ventas'] = (df['SOLD_AMOUNT'] / df['INVOLVED_STOCK']) * 100\n",
    "print(df[['OFFER_START_DATE', 'tasa_de_ventas']])"
   ]
  },
  {
   "cell_type": "code",
   "execution_count": 38,
   "id": "0eea7ce1",
   "metadata": {},
   "outputs": [
    {
     "name": "stdout",
     "output_type": "stream",
     "text": [
      "VERTICAL\n",
      "BEAUTY & HEALTH    547427.27\n",
      "CE                 362787.94\n",
      "HOME & INDUSTRY    155518.68\n",
      "APP & SPORTS       131101.36\n",
      "ACC                 26819.98\n",
      "CPG                 16787.68\n",
      "T & B               14302.78\n",
      "ENTERTAINMENT        1988.57\n",
      "OTHERS               1929.24\n",
      "Name: SOLD_AMOUNT, dtype: float64\n"
     ]
    }
   ],
   "source": [
    "mejores_categorias = df.groupby('VERTICAL')['SOLD_AMOUNT'].sum().sort_values(ascending=False)\n",
    "print(mejores_categorias)"
   ]
  },
  {
   "cell_type": "code",
   "execution_count": 39,
   "id": "befc8987",
   "metadata": {},
   "outputs": [
    {
     "name": "stdout",
     "output_type": "stream",
     "text": [
      "0         1\n",
      "1        54\n",
      "2         9\n",
      "3         8\n",
      "4         1\n",
      "5         1\n",
      "6        10\n",
      "7     12574\n",
      "8        55\n",
      "9        89\n",
      "10      380\n",
      "11     1268\n",
      "12     2226\n",
      "13    14287\n",
      "14      987\n",
      "15     1228\n",
      "16      828\n",
      "17     1354\n",
      "18      321\n",
      "19    12884\n",
      "20      113\n",
      "21       43\n",
      "22       21\n",
      "23        4\n",
      "Name: HORA_INICIO_OFERTA, dtype: int64\n"
     ]
    }
   ],
   "source": [
    "df['HORA_INICIO_OFERTA'] = pd.to_datetime(df['OFFER_START_DTTM']).dt.hour\n",
    "horas_pico = df['HORA_INICIO_OFERTA'].value_counts().sort_index()\n",
    "print(horas_pico)"
   ]
  },
  {
   "cell_type": "code",
   "execution_count": 40,
   "id": "112184ca",
   "metadata": {},
   "outputs": [
    {
     "name": "stdout",
     "output_type": "stream",
     "text": [
      "SHIPPING_PAYMENT_TYPE\n",
      "free_shipping    63.792067\n",
      "none             39.714082\n",
      "Name: SOLD_AMOUNT, dtype: float64\n"
     ]
    }
   ],
   "source": [
    "impacto_envio = df.groupby('SHIPPING_PAYMENT_TYPE')['SOLD_AMOUNT'].mean()\n",
    "print(impacto_envio)"
   ]
  },
  {
   "cell_type": "code",
   "execution_count": 42,
   "id": "b1c6320d",
   "metadata": {},
   "outputs": [
    {
     "name": "stdout",
     "output_type": "stream",
     "text": [
      "VERTICAL\n",
      "CE                 469.714353\n",
      "ACC                264.335717\n",
      "BEAUTY & HEALTH    250.169234\n",
      "HOME & INDUSTRY    240.806465\n",
      "OTHERS             213.251947\n",
      "T & B              197.487988\n",
      "APP & SPORTS       193.513621\n",
      "ENTERTAINMENT      190.844984\n",
      "CPG                149.781465\n",
      "Name: tasa_de_ventas, dtype: float64\n"
     ]
    }
   ],
   "source": [
    "tasa_promedio_por_categoria = df.groupby('VERTICAL')['tasa_de_ventas'].mean().sort_values(ascending=False)\n",
    "print(tasa_promedio_por_categoria)"
   ]
  },
  {
   "cell_type": "code",
   "execution_count": 43,
   "id": "40b8d99d",
   "metadata": {},
   "outputs": [],
   "source": [
    "import matplotlib.pyplot as plt"
   ]
  },
  {
   "cell_type": "code",
   "execution_count": 44,
   "id": "6b2f4108",
   "metadata": {},
   "outputs": [],
   "source": [
    "df_filtered = df.dropna(subset=['tasa_de_ventas', 'HORA_INICIO_OFERTA'])"
   ]
  },
  {
   "cell_type": "code",
   "execution_count": 46,
   "id": "f47c615a",
   "metadata": {},
   "outputs": [
    {
     "data": {
      "image/png": "[encoded data removed]",
      "text/plain": [
       "<Figure size 640x480 with 1 Axes>"
      ]
     },
     "metadata": {},
     "output_type": "display_data"
    }
   ],
   "source": [
    "plt.subplot(1, 2, 1)\n",
    "plt.hist(df_filtered['tasa_de_ventas'], bins=20, color='b', alpha=0.7, label='Tasa de Ventas')\n",
    "plt.xlabel('Tasa de Ventas')\n",
    "plt.ylabel('Frecuencia')\n",
    "plt.title('Distribución de la Tasa de Ventas')\n",
    "plt.grid(True)"
   ]
  },
  {
   "cell_type": "code",
   "execution_count": 47,
   "id": "883d0909",
   "metadata": {},
   "outputs": [
    {
     "data": {
      "image/png": "[encoded data removed]",
      "text/plain": [
       "<Figure size 640x480 with 1 Axes>"
      ]
     },
     "metadata": {},
     "output_type": "display_data"
    }
   ],
   "source": [
    "plt.subplot(1, 2, 2)\n",
    "plt.hist(df_filtered['HORA_INICIO_OFERTA'], bins=24, color='r', alpha=0.7, label='Hora de Inicio de Oferta')\n",
    "plt.xlabel('Hora de Inicio de Oferta')\n",
    "plt.ylabel('Frecuencia')\n",
    "plt.title('Distribución de la Hora de Inicio de Ofertas')\n",
    "plt.grid(True)"
   ]
  }
 ],
 "metadata": {
  "kernelspec": {
   "display_name": "Python 3 (ipykernel)",
   "language": "python",
   "name": "python3"
  },
  "language_info": {
   "codemirror_mode": {
    "name": "ipython",
    "version": 3
   },
   "file_extension": ".py",
   "mimetype": "text/x-python",
   "name": "python",
   "nbconvert_exporter": "python",
   "pygments_lexer": "ipython3",
   "version": "3.11.4"
  }
 },
 "nbformat": 4,
 "nbformat_minor": 5
}
