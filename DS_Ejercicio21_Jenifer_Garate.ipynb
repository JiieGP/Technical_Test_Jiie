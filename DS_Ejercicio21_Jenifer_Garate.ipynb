{
 "cells": [
  {
   "cell_type": "markdown",
   "id": "26d34fdc",
   "metadata": {},
   "source": [
    "# Ejercicio 2"
   ]
  },
  {
   "cell_type": "markdown",
   "id": "29b0dc20",
   "metadata": {},
   "source": [
    "Un desafío constante en MELI es el de poder agrupar productos similares utilizando algunos\n",
    "atributos de estos como pueden ser el título, la descripción o su imagen. Para este desafío tenemos un dataset “items_titles.csv” que tiene títulos de 30 mil productos de 3 categorías diferentes de Mercado Libre Brasil. El objetivo del desafío es poder generar una Jupyter notebook que determine cuán similares son dos títulos del dataset “item_titles_test.csv” generando como output un listado de la forma donde ordenando por score de similitud podamos encontrar los pares de productos más\n",
    "similares en nuestro dataset de test."
   ]
  },
  {
   "cell_type": "code",
   "execution_count": 1,
   "id": "1df7e4c2",
   "metadata": {},
   "outputs": [],
   "source": [
    "import pandas as pd"
   ]
  },
  {
   "cell_type": "code",
   "execution_count": 2,
   "id": "044dacb5",
   "metadata": {},
   "outputs": [],
   "source": [
    "df = pd.read_csv(\"/Users/jgarate/Downloads/items_titles.csv\")"
   ]
  },
  {
   "cell_type": "code",
   "execution_count": 3,
   "id": "47fe53e1",
   "metadata": {},
   "outputs": [
    {
     "data": {
      "text/html": [
       "<div>\n",
       "<style scoped>\n",
       "    .dataframe tbody tr th:only-of-type {\n",
       "        vertical-align: middle;\n",
       "    }\n",
       "\n",
       "    .dataframe tbody tr th {\n",
       "        vertical-align: top;\n",
       "    }\n",
       "\n",
       "    .dataframe thead th {\n",
       "        text-align: right;\n",
       "    }\n",
       "</style>\n",
       "<table border=\"1\" class=\"dataframe\">\n",
       "  <thead>\n",
       "    <tr style=\"text-align: right;\">\n",
       "      <th></th>\n",
       "      <th>ITE_ITEM_TITLE</th>\n",
       "    </tr>\n",
       "  </thead>\n",
       "  <tbody>\n",
       "    <tr>\n",
       "      <th>0</th>\n",
       "      <td>Tênis Ascension Posh Masculino - Preto E Verme...</td>\n",
       "    </tr>\n",
       "    <tr>\n",
       "      <th>1</th>\n",
       "      <td>Tenis Para Caminhada Super Levinho Spider Corr...</td>\n",
       "    </tr>\n",
       "    <tr>\n",
       "      <th>2</th>\n",
       "      <td>Tênis Feminino Le Parc Hocks Black/ice Origina...</td>\n",
       "    </tr>\n",
       "    <tr>\n",
       "      <th>3</th>\n",
       "      <td>Tênis Olympikus Esportivo Academia Nova Tendên...</td>\n",
       "    </tr>\n",
       "    <tr>\n",
       "      <th>4</th>\n",
       "      <td>Inteligente Led Bicicleta Tauda Luz Usb Bicicl...</td>\n",
       "    </tr>\n",
       "  </tbody>\n",
       "</table>\n",
       "</div>"
      ],
      "text/plain": [
       "                                      ITE_ITEM_TITLE\n",
       "0  Tênis Ascension Posh Masculino - Preto E Verme...\n",
       "1  Tenis Para Caminhada Super Levinho Spider Corr...\n",
       "2  Tênis Feminino Le Parc Hocks Black/ice Origina...\n",
       "3  Tênis Olympikus Esportivo Academia Nova Tendên...\n",
       "4  Inteligente Led Bicicleta Tauda Luz Usb Bicicl..."
      ]
     },
     "execution_count": 3,
     "metadata": {},
     "output_type": "execute_result"
    }
   ],
   "source": [
    "df.head()"
   ]
  },
  {
   "cell_type": "code",
   "execution_count": 4,
   "id": "341f3fe7",
   "metadata": {},
   "outputs": [],
   "source": [
    "from sklearn.feature_extraction.text import CountVectorizer\n",
    "from sklearn.metrics.pairwise import cosine_similarity"
   ]
  },
  {
   "cell_type": "code",
   "execution_count": 5,
   "id": "d84a5f36",
   "metadata": {},
   "outputs": [],
   "source": [
    "def jaccard_similarity(str1, str2):\n",
    "    a = set(str1.split())\n",
    "    b = set(str2.split())\n",
    "    c = a.intersection(b)\n",
    "    return float(len(c)) / (len(a) + len(b) - len(c))"
   ]
  },
  {
   "cell_type": "code",
   "execution_count": 6,
   "id": "cbe40044",
   "metadata": {},
   "outputs": [],
   "source": [
    "df_similarity = pd.DataFrame(columns=['ITE_ITEM_TITLE1', 'ITE_ITEM_TITLE2', 'SCORE_SIMILITUD'])"
   ]
  },
  {
   "cell_type": "code",
   "execution_count": null,
   "id": "e28b4f5c",
   "metadata": {},
   "outputs": [],
   "source": [
    "for i in range(0, 2):\n",
    "    for j in range(i+1, 2):\n",
    "        title1 = df['ITE_ITEM_TITLE'].iloc[i]\n",
    "        title2 = df['ITE_ITEM_TITLE'].iloc[j]\n",
    "        score = jaccard_similarity(title1, title2)\n",
    "        df_similarity = df_similarity.append({'ITE_ITEM_TITLE1': title1, 'ITE_ITEM_TITLE2': title2, 'SCORE_SIMILITUD': score}, ignore_index=True)"
   ]
  },
  {
   "cell_type": "code",
   "execution_count": null,
   "id": "70a367b3",
   "metadata": {},
   "outputs": [],
   "source": [
    "df_similarity = df_similarity.sort_values(by='SCORE_SIMILITUD', ascending=False)"
   ]
  },
  {
   "cell_type": "code",
   "execution_count": null,
   "id": "fa14c279",
   "metadata": {},
   "outputs": [],
   "source": [
    "df_similarity.head()"
   ]
  }
 ],
 "metadata": {
  "kernelspec": {
   "display_name": "Python 3 (ipykernel)",
   "language": "python",
   "name": "python3"
  },
  "language_info": {
   "codemirror_mode": {
    "name": "ipython",
    "version": 3
   },
   "file_extension": ".py",
   "mimetype": "text/x-python",
   "name": "python",
   "nbconvert_exporter": "python",
   "pygments_lexer": "ipython3",
   "version": "3.11.4"
  }
 },
 "nbformat": 4,
 "nbformat_minor": 5
}
